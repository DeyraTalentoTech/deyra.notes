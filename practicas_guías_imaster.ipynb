{
  "cells": [
    {
      "cell_type": "markdown",
      "metadata": {
        "id": "view-in-github",
        "colab_type": "text"
      },
      "source": [
        "<a href=\"https://colab.research.google.com/github/DeyraTalentoTech/deyra.notes/blob/main/practicas_gu%C3%ADas_imaster.ipynb\" target=\"_parent\"><img src=\"https://colab.research.google.com/assets/colab-badge.svg\" alt=\"Open In Colab\"/></a>"
      ]
    },
    {
      "cell_type": "code",
      "execution_count": null,
      "metadata": {
        "colab": {
          "base_uri": "https://localhost:8080/"
        },
        "id": "P8iXtmPPbMUe",
        "outputId": "fada49c5-8ecf-497b-f1df-d150a0645921"
      },
      "outputs": [
        {
          "name": "stdout",
          "output_type": "stream",
          "text": [
            "1.26.4\n",
            "Build Dependencies:\n",
            "  blas:\n",
            "    detection method: pkgconfig\n",
            "    found: true\n",
            "    include directory: /usr/local/include\n",
            "    lib directory: /usr/local/lib\n",
            "    name: openblas64\n",
            "    openblas configuration: USE_64BITINT=1 DYNAMIC_ARCH=1 DYNAMIC_OLDER= NO_CBLAS=\n",
            "      NO_LAPACK= NO_LAPACKE= NO_AFFINITY=1 USE_OPENMP= HASWELL MAX_THREADS=2\n",
            "    pc file directory: /usr/local/lib/pkgconfig\n",
            "    version: 0.3.23.dev\n",
            "  lapack:\n",
            "    detection method: internal\n",
            "    found: true\n",
            "    include directory: unknown\n",
            "    lib directory: unknown\n",
            "    name: dep139863411681952\n",
            "    openblas configuration: unknown\n",
            "    pc file directory: unknown\n",
            "    version: 1.26.4\n",
            "Compilers:\n",
            "  c:\n",
            "    args: -fno-strict-aliasing\n",
            "    commands: cc\n",
            "    linker: ld.bfd\n",
            "    linker args: -Wl,--strip-debug, -fno-strict-aliasing\n",
            "    name: gcc\n",
            "    version: 10.2.1\n",
            "  c++:\n",
            "    commands: c++\n",
            "    linker: ld.bfd\n",
            "    linker args: -Wl,--strip-debug\n",
            "    name: gcc\n",
            "    version: 10.2.1\n",
            "  cython:\n",
            "    commands: cython\n",
            "    linker: cython\n",
            "    name: cython\n",
            "    version: 3.0.8\n",
            "Machine Information:\n",
            "  build:\n",
            "    cpu: x86_64\n",
            "    endian: little\n",
            "    family: x86_64\n",
            "    system: linux\n",
            "  host:\n",
            "    cpu: x86_64\n",
            "    endian: little\n",
            "    family: x86_64\n",
            "    system: linux\n",
            "Python Information:\n",
            "  path: /opt/python/cp310-cp310/bin/python\n",
            "  version: '3.10'\n",
            "SIMD Extensions:\n",
            "  baseline:\n",
            "  - SSE\n",
            "  - SSE2\n",
            "  - SSE3\n",
            "  found:\n",
            "  - SSSE3\n",
            "  - SSE41\n",
            "  - POPCNT\n",
            "  - SSE42\n",
            "  - AVX\n",
            "  - F16C\n",
            "  - FMA3\n",
            "  - AVX2\n",
            "  not found:\n",
            "  - AVX512F\n",
            "  - AVX512CD\n",
            "  - AVX512_KNL\n",
            "  - AVX512_KNM\n",
            "  - AVX512_SKX\n",
            "  - AVX512_CLX\n",
            "  - AVX512_CNL\n",
            "  - AVX512_ICL\n",
            "\n",
            "None\n"
          ]
        }
      ],
      "source": [
        "import numpy as np\n",
        "print (np.__version__)\n",
        "print (np.show_config())\n"
      ]
    },
    {
      "cell_type": "code",
      "execution_count": null,
      "metadata": {
        "colab": {
          "base_uri": "https://localhost:8080/"
        },
        "id": "vtckmtlGb_d0",
        "outputId": "69b7ef97-28f0-4e0d-d538-4de578ed6327"
      },
      "outputs": [
        {
          "name": "stdout",
          "output_type": "stream",
          "text": [
            "[ 1  2  3  4  5  6  7  8  9 10]\n"
          ]
        }
      ],
      "source": [
        "import numpy as np\n",
        "numeros = (1, 2, 3, 4, 5, 6, 7, 8, 9, 10)\n",
        "numeros = np.array(numeros)\n",
        "print (numeros)\n"
      ]
    },
    {
      "cell_type": "code",
      "execution_count": null,
      "metadata": {
        "colab": {
          "base_uri": "https://localhost:8080/"
        },
        "id": "EpqgPmtucVRr",
        "outputId": "ed7704f0-a0cc-44f2-c3f7-47e580d0adad"
      },
      "outputs": [
        {
          "name": "stdout",
          "output_type": "stream",
          "text": [
            "Matriz de ceros:\n",
            "[[0. 0. 0.]\n",
            " [0. 0. 0.]]\n",
            "\n",
            "Matriz de unos:\n",
            "[[1. 1. 1.]\n",
            " [1. 1. 1.]\n",
            " [1. 1. 1.]]\n",
            "\n",
            "Matriz personalizada:\n",
            "[[1 2 3]\n",
            " [4 5 6]]\n"
          ]
        }
      ],
      "source": [
        "#Creación de un ndarray de 2x3 con ceros\n",
        "matriz_ceros = np.zeros((2, 3))\n",
        "\n",
        "# Creación de un ndarray de 3x3 con unos\n",
        "matriz_unos = np.ones((3, 3))\n",
        "\n",
        "# Creación de un ndarray con valores específicos\n",
        "matriz_personalizada = np.array([[1, 2, 3], [4, 5, 6]])\n",
        "\n",
        "# Imprimir los ndarrays\n",
        "print(\"Matriz de ceros:\")\n",
        "print(matriz_ceros)\n",
        "\n",
        "print(\"\\nMatriz de unos:\")\n",
        "print(matriz_unos)\n",
        "\n",
        "print(\"\\nMatriz personalizada:\")\n",
        "print(matriz_personalizada)\n"
      ]
    },
    {
      "cell_type": "code",
      "execution_count": null,
      "metadata": {
        "colab": {
          "base_uri": "https://localhost:8080/"
        },
        "id": "UT1iP1MBdbU6",
        "outputId": "635f160d-b000-4c1f-e7e1-b88b1d945fa3"
      },
      "outputs": [
        {
          "name": "stdout",
          "output_type": "stream",
          "text": [
            "Numeros del 0 al 9 (sin incluir el 10):\n",
            "[0 1 2 3 4 5 6 7 8 9]\n",
            "\n",
            "Numeros del 1 al 5 de 2 en 2:\n",
            "[1 3 5]\n",
            "[0.  0.5 1.  1.5 2.  2.5 3.  3.5]\n"
          ]
        }
      ],
      "source": [
        "#Funciones de Numpy\n",
        "import numpy as np\n",
        "\n",
        "# Creación de un ndarray con valores del 0 al 9 (sin incluir el 10)\n",
        "numeros_1 = np.arange(0, 10)\n",
        "print(\"Numeros del 0 al 9 (sin incluir el 10):\")\n",
        "print(numeros_1)\n",
        "\n",
        "# Creación de un ndarray con valores del 1 al 5 de 2  en 2\n",
        "numeros_2 = np.arange(1, 6, 2)\n",
        "print(\"\\nNumeros del 1 al 5 de 2 en 2:\")\n",
        "print(numeros_2)\n",
        "\n",
        "# Creación de un ndarray con valores del 0 al 4 (sin incluir el 4) de 0.5 en 0.5\n",
        "numeros_3 = np.arange(0, 4, 0.5)\n",
        "print(numeros_3)"
      ]
    },
    {
      "cell_type": "code",
      "execution_count": null,
      "metadata": {
        "colab": {
          "base_uri": "https://localhost:8080/"
        },
        "id": "L5rtfqPjhAZy",
        "outputId": "3b956c98-b8f6-40ce-e8fc-68c091cb40d4"
      },
      "outputs": [
        {
          "name": "stdout",
          "output_type": "stream",
          "text": [
            "[0 1 2 3 4 5 6 7 8 9]\n",
            "[1 3 5]\n",
            "[0.  0.5 1.  1.5 2.  2.5 3.  3.5]\n"
          ]
        }
      ],
      "source": [
        "import numpy as np\n",
        "\n",
        "# Creación de un ndarray con valores del 0 al 9 (sin incluir el 10)\n",
        "numeros_1 = np.arange(0, 10)\n",
        "print(numeros_1)\n",
        "\n",
        "# Creación de un ndarray con valores del 1 al 5 de 2  en 2\n",
        "numeros_2 = np.arange(1, 6, 2)\n",
        "print(numeros_2)\n",
        "\n",
        "# Creación de un ndarray con valores del 0 al 4 (sin incluir el 4) de 0.5 en 0.5\n",
        "numeros_3 = np.arange(0, 4, 0.5)\n",
        "print(numeros_3)"
      ]
    },
    {
      "cell_type": "code",
      "execution_count": null,
      "metadata": {
        "colab": {
          "base_uri": "https://localhost:8080/"
        },
        "id": "ABNS47jhnfiD",
        "outputId": "57f9bde7-14d1-4900-8393-0fbbf128cacd"
      },
      "outputs": [
        {
          "name": "stdout",
          "output_type": "stream",
          "text": [
            "[0.         0.11111111 0.22222222 0.33333333 0.44444444 0.55555556\n",
            " 0.66666667 0.77777778 0.88888889 1.        ]\n",
            "[ 2.  4.  6.  8. 10.]\n"
          ]
        }
      ],
      "source": [
        "# Creación de un ndarray con 10 valores espaciados uniformementes entre 0 y 1\n",
        "puntos_1 = np.linspace(0, 1, 10)\n",
        "print(puntos_1)\n",
        "\n",
        "# Creación de un ndarray con 5 valores espaciados uniformemente entre 2 y 10\n",
        "puntos_2 = np.linspace(2, 10, 5)\n",
        "print(puntos_2)"
      ]
    },
    {
      "cell_type": "code",
      "execution_count": null,
      "metadata": {
        "colab": {
          "base_uri": "https://localhost:8080/"
        },
        "id": "q7L7dNh8o0U9",
        "outputId": "3ee8b54c-9388-431f-85f0-ff2a546f21e4"
      },
      "outputs": [
        {
          "name": "stdout",
          "output_type": "stream",
          "text": [
            "[[0.23574422 0.50926128 0.87834134]\n",
            " [0.14836351 0.48815749 0.57846417]\n",
            " [0.15027298 0.50637762 0.25523622]]\n"
          ]
        }
      ],
      "source": [
        "# Creación de un ndarray de 3x3 con números aleatorios entre 0 y 1\n",
        "matriz_aleatoria_1 = np.random.rand(3, 3)\n",
        "print(matriz_aleatoria_1)"
      ]
    },
    {
      "cell_type": "code",
      "execution_count": null,
      "metadata": {
        "colab": {
          "base_uri": "https://localhost:8080/"
        },
        "id": "N4kSj9tIpXF8",
        "outputId": "b6ee2b84-5114-4350-be1d-682eca009928"
      },
      "outputs": [
        {
          "name": "stdout",
          "output_type": "stream",
          "text": [
            "[0.89767321 0.52460362 0.58877329 0.49308697 0.49281743]\n"
          ]
        }
      ],
      "source": [
        "# Creación de un ndarray de 5 elementos con números aleatorios entre 0 y 1\n",
        "Vector_aleatorio_1 = np.random.rand(5)\n",
        "print(Vector_aleatorio_1)"
      ]
    },
    {
      "cell_type": "markdown",
      "metadata": {
        "id": "Z25yDtuIpnWG"
      },
      "source": [
        "# Características Básicas de ndarray en Numpy"
      ]
    },
    {
      "cell_type": "code",
      "execution_count": null,
      "metadata": {
        "colab": {
          "base_uri": "https://localhost:8080/"
        },
        "id": "FQn0EqRxphcD",
        "outputId": "88ee33a1-a7d2-4913-d793-1b954bc1a75f"
      },
      "outputs": [
        {
          "name": "stdout",
          "output_type": "stream",
          "text": [
            "6\n",
            "[1 2 3]\n",
            "[2 5]\n"
          ]
        }
      ],
      "source": [
        "import numpy as np\n",
        "\n",
        "# Creación de un ndarray 2D\n",
        "matriz = np.array([[1, 2, 3], [4, 5, 6]])\n",
        "\n",
        "# Acceso a un elemento específico (fila 1, columna 2)\n",
        "elemento = matriz[1, 2]\n",
        "print(elemento)\n",
        "\n",
        "# Acceso a una fila completa\n",
        "fila = matriz[0, :]\n",
        "print(fila)\n",
        "\n",
        "# Acceso a una columna completa\n",
        "columna = matriz[:, 1]\n",
        "print(columna)"
      ]
    },
    {
      "cell_type": "markdown",
      "metadata": {
        "id": "cEAN7ELUuZeW"
      },
      "source": [
        "**Operaciones Matriciales**"
      ]
    },
    {
      "cell_type": "code",
      "execution_count": null,
      "metadata": {
        "colab": {
          "base_uri": "https://localhost:8080/"
        },
        "id": "KnO55McIudGl",
        "outputId": "b9ff598b-27e0-4e01-c59e-d857c04f9182"
      },
      "outputs": [
        {
          "name": "stdout",
          "output_type": "stream",
          "text": [
            "6\n"
          ]
        }
      ],
      "source": [
        "arr = np.array([1, 2, 3])\n",
        "print(np.sum(arr))"
      ]
    },
    {
      "cell_type": "code",
      "execution_count": null,
      "metadata": {
        "colab": {
          "base_uri": "https://localhost:8080/"
        },
        "id": "LtqObdM9vIOu",
        "outputId": "1586ca21-6fb4-4154-9090-2e3d7e6947e7"
      },
      "outputs": [
        {
          "name": "stdout",
          "output_type": "stream",
          "text": [
            "Array original:\n",
            "[[1 2 3]\n",
            " [4 5 6]]\n",
            "Array reshape:\n",
            "[[1 2]\n",
            " [3 4]\n",
            " [5 6]]\n",
            "Array Flatten:\n",
            "[1 2 3 4 5 6]\n",
            "Array Transpose:\n",
            "[[1 4]\n",
            " [2 5]\n",
            " [3 6]]\n"
          ]
        }
      ],
      "source": [
        "import numpy as np\n",
        "\n",
        "array = np.array([[1, 2, 3], [4, 5, 6]])\n",
        "reshaped_array = array.reshape (3, 2)\n",
        "flattened_array = array.flatten()\n",
        "transposed_array = array.transpose()\n",
        "\n",
        "\n",
        "print(\"Array original:\")\n",
        "print(array)\n",
        "print(\"Array reshape:\")\n",
        "print(reshaped_array)\n",
        "print(\"Array Flatten:\")\n",
        "print(flattened_array)\n",
        "print(\"Array Transpose:\")\n",
        "print(transposed_array)"
      ]
    },
    {
      "cell_type": "markdown",
      "metadata": {
        "id": "GFiwfJ5Hv_sm"
      },
      "source": [
        "**Funciones de Generación de Números Aleatorios**"
      ]
    },
    {
      "cell_type": "code",
      "execution_count": null,
      "metadata": {
        "colab": {
          "base_uri": "https://localhost:8080/"
        },
        "id": "hVDb-xnVwKx-",
        "outputId": "116cdc6e-a45f-4e92-b665-91d0ebf91916"
      },
      "outputs": [
        {
          "name": "stdout",
          "output_type": "stream",
          "text": [
            "[0.96346399 0.29331458 0.04372522]\n",
            "[5 8 2 4 9]\n",
            "[[-0.23450334 -0.16879993]\n",
            " [ 0.09276212 -0.69150377]]\n"
          ]
        }
      ],
      "source": [
        "import numpy as np\n",
        "\n",
        "numeros_aleatorios_uniformes = np.random.rand(3)\n",
        "numeros_aleatorios_enteros = np.random.randint(1, 10, size=5)\n",
        "numeros_aleatorios_normales = np.random.randn(2, 2)\n",
        "\n",
        "print(numeros_aleatorios_uniformes)\n",
        "print(numeros_aleatorios_enteros)\n",
        "print(numeros_aleatorios_normales)"
      ]
    },
    {
      "cell_type": "code",
      "execution_count": null,
      "metadata": {
        "colab": {
          "base_uri": "https://localhost:8080/"
        },
        "id": "qgHBu7OLznLc",
        "outputId": "50f78caa-4e3f-4940-8d66-5c2ceae5ede7"
      },
      "outputs": [
        {
          "name": "stdout",
          "output_type": "stream",
          "text": [
            "[5 7 9]\n"
          ]
        }
      ],
      "source": [
        "import numpy as np\n",
        "\n",
        "arr1 = np.array([1, 2, 3])\n",
        "arr2 = np.array([4, 5, 6])\n",
        "\n",
        "# Suma elemento por elemento\n",
        "result = arr1 + arr2\n",
        "print(result)\n"
      ]
    },
    {
      "cell_type": "code",
      "execution_count": null,
      "metadata": {
        "colab": {
          "base_uri": "https://localhost:8080/"
        },
        "id": "iKacbNi_z59O",
        "outputId": "edf7cd2c-6fdb-4e8f-b476-d9dd1a9a8fe8"
      },
      "outputs": [
        {
          "name": "stdout",
          "output_type": "stream",
          "text": [
            "[2 4 6]\n"
          ]
        }
      ],
      "source": [
        "import numpy as np\n",
        "\n",
        "arr = np.array([1, 2, 3])\n",
        "result = 2 * arr\n",
        "print(result)"
      ]
    },
    {
      "cell_type": "markdown",
      "source": [
        "**Suma de matrices**"
      ],
      "metadata": {
        "id": "-k843cdz1EeE"
      }
    },
    {
      "cell_type": "code",
      "execution_count": null,
      "metadata": {
        "colab": {
          "base_uri": "https://localhost:8080/"
        },
        "id": "0Vpfgv1M0MW8",
        "outputId": "59425616-7e1f-4042-d53e-e0aa2face469"
      },
      "outputs": [
        {
          "output_type": "stream",
          "name": "stdout",
          "text": [
            "[[ 6  8]\n",
            " [10 12]]\n"
          ]
        }
      ],
      "source": [
        "import numpy as np\n",
        "\n",
        "arr1 = np.array([[1, 2], [3, 4]])\n",
        "arr2 = np.array([[5, 6], [7, 8]])\n",
        "result = arr1 + arr2\n",
        "print(result)"
      ]
    },
    {
      "cell_type": "code",
      "execution_count": null,
      "metadata": {
        "id": "HueLztNI0snF",
        "colab": {
          "base_uri": "https://localhost:8080/"
        },
        "outputId": "32844916-2f63-4925-a1b7-25a76230bf84"
      },
      "outputs": [
        {
          "output_type": "stream",
          "name": "stdout",
          "text": [
            "[[1 2 3]\n",
            " [4 5 6]]\n"
          ]
        }
      ],
      "source": [
        "import numpy as np\n",
        "\n",
        "arr = np.array([1, 2, 3, 4, 5, 6])\n",
        "reshaped_arr = arr.reshape(2, 3)\n",
        "print(reshaped_arr)"
      ]
    },
    {
      "cell_type": "code",
      "source": [
        "import numpy as np\n",
        "\n",
        "arr1 = np.array([[1, 2, 3], [4, 5, 6]])\n",
        "total_sum = arr.sum()\n",
        "print(total_sum)"
      ],
      "metadata": {
        "colab": {
          "base_uri": "https://localhost:8080/"
        },
        "id": "rPOwgBQj1M8D",
        "outputId": "aee29aa0-4173-498c-c7ac-2ba53ff6167d"
      },
      "execution_count": null,
      "outputs": [
        {
          "output_type": "stream",
          "name": "stdout",
          "text": [
            "21\n"
          ]
        }
      ]
    },
    {
      "cell_type": "markdown",
      "source": [
        "**Funciones de Generación de Números Aleatorios**"
      ],
      "metadata": {
        "id": "csZ9PO2I2JCt"
      }
    },
    {
      "cell_type": "code",
      "source": [
        "import numpy as np\n",
        "\n",
        "arr1 = np.array([[1, 2, 3], [4, 5, 6]])\n",
        "average = arr.mean()\n",
        "print(average)\n"
      ],
      "metadata": {
        "colab": {
          "base_uri": "https://localhost:8080/"
        },
        "id": "DAOdkRqI14jc",
        "outputId": "59c799d5-7172-4dac-d0a3-430f5ad86b33"
      },
      "execution_count": null,
      "outputs": [
        {
          "output_type": "stream",
          "name": "stdout",
          "text": [
            "3.5\n"
          ]
        }
      ]
    },
    {
      "cell_type": "code",
      "source": [
        "import numpy as np\n",
        "\n",
        "arr1 = np.array([[1, 2, 3], [4, 5, 6]])\n",
        "min_value = arr.min()\n",
        "print(min_value)\n",
        "max_value = arr.max()\n",
        "print(max_value)"
      ],
      "metadata": {
        "colab": {
          "base_uri": "https://localhost:8080/"
        },
        "id": "2N77Efzo2IcD",
        "outputId": "7b0a0159-37ca-4ee6-a209-5f068e7869f8"
      },
      "execution_count": null,
      "outputs": [
        {
          "output_type": "stream",
          "name": "stdout",
          "text": [
            "1\n",
            "6\n"
          ]
        }
      ]
    },
    {
      "cell_type": "code",
      "source": [
        "import numpy as np\n",
        "arr = np.array([5, 2, 8, 1, 7])\n",
        "idx_min = arr.argmin()\n",
        "idx_max = arr.argmax()\n",
        "print(idx_min)\n",
        "print(idx_max)"
      ],
      "metadata": {
        "colab": {
          "base_uri": "https://localhost:8080/"
        },
        "id": "XkxKavPS2fMD",
        "outputId": "8661d85a-df06-4745-d341-d9d5abb2a13f"
      },
      "execution_count": null,
      "outputs": [
        {
          "output_type": "stream",
          "name": "stdout",
          "text": [
            "3\n",
            "2\n"
          ]
        }
      ]
    },
    {
      "cell_type": "code",
      "source": [
        "import numpy as np\n",
        "\n",
        "arr = np.array([1, 2, 3, 4, 5])\n",
        "std_dev = arr.std()\n",
        "print(std_dev)"
      ],
      "metadata": {
        "colab": {
          "base_uri": "https://localhost:8080/"
        },
        "id": "FitylWUA22AV",
        "outputId": "27949b6f-1945-40b1-9896-06feea519824"
      },
      "execution_count": null,
      "outputs": [
        {
          "output_type": "stream",
          "name": "stdout",
          "text": [
            "1.4142135623730951\n"
          ]
        }
      ]
    },
    {
      "cell_type": "markdown",
      "source": [
        "**Actividad \"Ejercicios Numpy\"**"
      ],
      "metadata": {
        "id": "YC8-tEND3j70"
      }
    },
    {
      "cell_type": "code",
      "source": [
        "import numpy as np\n",
        "\n",
        "# Array unidimensional de longitud 5 con números enteros aleatorios\n",
        "array_1d = np.random.randint(10, size=5)  # Números enteros aleatorios entre 0 y 9\n",
        "print(\"Array unidimensional:\", array_1d)\n",
        "\n",
        "# Array bidimensional de tamaño 3x3 con valores booleanos True\n",
        "array_2d = np.full((3, 3), True)  # Crea un array de 3x3 llenado con True\n",
        "print(\"Array bidimensional:\", array_2d)\n",
        "\n",
        "# Array tridimensional de tamaño 2x3x4 con valores flotantes aleatorios\n",
        "array_3d = np.random.rand(2, 3, 4)  # Números flotantes aleatorios entre 0 y 1\n",
        "print(\"Array tridimensional:\", array_3d)"
      ],
      "metadata": {
        "colab": {
          "base_uri": "https://localhost:8080/"
        },
        "id": "S3bgzhoX3s0U",
        "outputId": "30537c96-dc31-4de6-9d70-0cb64c8e17d4"
      },
      "execution_count": null,
      "outputs": [
        {
          "output_type": "stream",
          "name": "stdout",
          "text": [
            "Array unidimensional: [9 4 2 1 3]\n",
            "Array bidimensional: [[ True  True  True]\n",
            " [ True  True  True]\n",
            " [ True  True  True]]\n",
            "Array tridimensional: [[[0.06520773 0.33948245 0.73081225 0.46585397]\n",
            "  [0.45158602 0.66302515 0.67822729 0.84932043]\n",
            "  [0.93578817 0.0309527  0.21482892 0.64832529]]\n",
            "\n",
            " [[0.83766857 0.65831905 0.05583295 0.27392023]\n",
            "  [0.52199811 0.57803577 0.86027389 0.42693304]\n",
            "  [0.44904979 0.77210103 0.74018392 0.64163207]]]\n"
          ]
        }
      ]
    },
    {
      "cell_type": "markdown",
      "source": [
        "**Acceso y Modificación de Elementos**"
      ],
      "metadata": {
        "id": "gO-WEomP4GjM"
      }
    },
    {
      "cell_type": "code",
      "source": [
        "import numpy as np\n",
        "#Accede al tercer elemento del array creado en el ejercicio 1a.\n",
        "array_1d = np.array([1, 2, 3, 4, 5])\n",
        "print(array_1d[2])\n",
        "\n",
        "# Modica el segundo elemento de la segunda del array creado en el ejercicio 1b para que sea False.\n",
        "array_2d[1, 1] = False\n",
        "print(array_2d)\n",
        "\n",
        "#Calcula la media de los elementos en la tercera dimensión del array creado en el ejercicio 1c.\n",
        "array_3d = np.array([[[1, 2], [3, 4]], [[5, 6], [7, 8]]])\n",
        "print(array_3d.mean())\n",
        "\n"
      ],
      "metadata": {
        "colab": {
          "base_uri": "https://localhost:8080/"
        },
        "id": "kX7hWgrp4P3z",
        "outputId": "aa352707-ed6a-48a9-8450-97cc53c38aba"
      },
      "execution_count": null,
      "outputs": [
        {
          "output_type": "stream",
          "name": "stdout",
          "text": [
            "3\n",
            "[[ True  True  True]\n",
            " [ True False  True]\n",
            " [ True  True  True]]\n",
            "4.5\n"
          ]
        }
      ]
    }
  ],
  "metadata": {
    "colab": {
      "provenance": [],
      "authorship_tag": "ABX9TyOPUXvuaf135kUajlnZdGlC",
      "include_colab_link": true
    },
    "kernelspec": {
      "display_name": "Python 3",
      "name": "python3"
    },
    "language_info": {
      "name": "python"
    }
  },
  "nbformat": 4,
  "nbformat_minor": 0
}